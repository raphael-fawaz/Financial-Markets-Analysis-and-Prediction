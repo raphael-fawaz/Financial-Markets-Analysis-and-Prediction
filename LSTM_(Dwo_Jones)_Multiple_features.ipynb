{
  "cells": [
    {
      "cell_type": "markdown",
      "metadata": {
        "id": "view-in-github",
        "colab_type": "text"
      },
      "source": [
        "<a href=\"https://colab.research.google.com/github/raphael-fawaz/Financial-Markets-Analysis-and-Prediction/blob/Bi-LSTM-(Dow-Jones-%26-Nasdaq)---Close-Price/LSTM_(Dwo_Jones)_Multiple_features.ipynb\" target=\"_parent\"><img src=\"https://colab.research.google.com/assets/colab-badge.svg\" alt=\"Open In Colab\"/></a>"
      ]
    },
    {
      "cell_type": "markdown",
      "id": "393e5607",
      "metadata": {
        "id": "393e5607"
      },
      "source": [
        "# LSTM  (Dwo Jones) - Multiple features"
      ]
    },
    {
      "cell_type": "code",
      "execution_count": null,
      "id": "341f2acb",
      "metadata": {
        "id": "341f2acb"
      },
      "outputs": [],
      "source": [
        "import pandas as pd\n",
        "import numpy as np\n",
        "from sklearn.preprocessing import MinMaxScaler\n",
        "import matplotlib.pyplot as plt\n",
        "from sklearn.metrics import mean_squared_error\n",
        "import tensorflow as tf\n",
        "from tensorflow.keras.models import Sequential\n",
        "from tensorflow.keras.layers import LSTM, Dense, Dropout"
      ]
    },
    {
      "cell_type": "code",
      "execution_count": null,
      "id": "937f0da8",
      "metadata": {
        "id": "937f0da8"
      },
      "outputs": [],
      "source": [
        "# Load the Dow Jones data\n",
        "dow_data = pd.read_csv(\"dow_data.csv\", index_col=\"Date\", parse_dates=True)\n",
        "\n",
        "# Normalize the data\n",
        "scaler = MinMaxScaler(feature_range=(0, 1))\n",
        "dow_scaled = scaler.fit_transform(dow_data)"
      ]
    },
    {
      "cell_type": "code",
      "execution_count": null,
      "id": "c28baf86",
      "metadata": {
        "id": "c28baf86",
        "outputId": "39984a03-d63a-4955-bd73-ddb37dc5eaa9"
      },
      "outputs": [
        {
          "data": {
            "text/html": [
              "<div>\n",
              "<style scoped>\n",
              "    .dataframe tbody tr th:only-of-type {\n",
              "        vertical-align: middle;\n",
              "    }\n",
              "\n",
              "    .dataframe tbody tr th {\n",
              "        vertical-align: top;\n",
              "    }\n",
              "\n",
              "    .dataframe thead th {\n",
              "        text-align: right;\n",
              "    }\n",
              "</style>\n",
              "<table border=\"1\" class=\"dataframe\">\n",
              "  <thead>\n",
              "    <tr style=\"text-align: right;\">\n",
              "      <th></th>\n",
              "      <th>Open</th>\n",
              "      <th>High</th>\n",
              "      <th>Low</th>\n",
              "      <th>Close</th>\n",
              "      <th>Adj Close</th>\n",
              "      <th>Volume</th>\n",
              "    </tr>\n",
              "    <tr>\n",
              "      <th>Date</th>\n",
              "      <th></th>\n",
              "      <th></th>\n",
              "      <th></th>\n",
              "      <th></th>\n",
              "      <th></th>\n",
              "      <th></th>\n",
              "    </tr>\n",
              "  </thead>\n",
              "  <tbody>\n",
              "    <tr>\n",
              "      <th>2010-01-04</th>\n",
              "      <td>10430.690430</td>\n",
              "      <td>10604.969727</td>\n",
              "      <td>10430.690430</td>\n",
              "      <td>10583.959961</td>\n",
              "      <td>10583.959961</td>\n",
              "      <td>179780000</td>\n",
              "    </tr>\n",
              "    <tr>\n",
              "      <th>2010-01-05</th>\n",
              "      <td>10584.559570</td>\n",
              "      <td>10584.559570</td>\n",
              "      <td>10522.519531</td>\n",
              "      <td>10572.019531</td>\n",
              "      <td>10572.019531</td>\n",
              "      <td>188540000</td>\n",
              "    </tr>\n",
              "    <tr>\n",
              "      <th>2010-01-06</th>\n",
              "      <td>10564.719727</td>\n",
              "      <td>10594.990234</td>\n",
              "      <td>10546.549805</td>\n",
              "      <td>10573.679688</td>\n",
              "      <td>10573.679688</td>\n",
              "      <td>186040000</td>\n",
              "    </tr>\n",
              "    <tr>\n",
              "      <th>2010-01-07</th>\n",
              "      <td>10571.110352</td>\n",
              "      <td>10612.370117</td>\n",
              "      <td>10505.209961</td>\n",
              "      <td>10606.860352</td>\n",
              "      <td>10606.860352</td>\n",
              "      <td>217390000</td>\n",
              "    </tr>\n",
              "    <tr>\n",
              "      <th>2010-01-08</th>\n",
              "      <td>10606.400391</td>\n",
              "      <td>10619.400391</td>\n",
              "      <td>10554.330078</td>\n",
              "      <td>10618.190430</td>\n",
              "      <td>10618.190430</td>\n",
              "      <td>172710000</td>\n",
              "    </tr>\n",
              "  </tbody>\n",
              "</table>\n",
              "</div>"
            ],
            "text/plain": [
              "                    Open          High           Low         Close  \\\n",
              "Date                                                                 \n",
              "2010-01-04  10430.690430  10604.969727  10430.690430  10583.959961   \n",
              "2010-01-05  10584.559570  10584.559570  10522.519531  10572.019531   \n",
              "2010-01-06  10564.719727  10594.990234  10546.549805  10573.679688   \n",
              "2010-01-07  10571.110352  10612.370117  10505.209961  10606.860352   \n",
              "2010-01-08  10606.400391  10619.400391  10554.330078  10618.190430   \n",
              "\n",
              "               Adj Close     Volume  \n",
              "Date                                 \n",
              "2010-01-04  10583.959961  179780000  \n",
              "2010-01-05  10572.019531  188540000  \n",
              "2010-01-06  10573.679688  186040000  \n",
              "2010-01-07  10606.860352  217390000  \n",
              "2010-01-08  10618.190430  172710000  "
            ]
          },
          "execution_count": 43,
          "metadata": {},
          "output_type": "execute_result"
        }
      ],
      "source": [
        "dow_data.head()"
      ]
    },
    {
      "cell_type": "markdown",
      "id": "0d069097",
      "metadata": {
        "id": "0d069097"
      },
      "source": [
        "## Preparing data"
      ]
    },
    {
      "cell_type": "code",
      "execution_count": null,
      "id": "5cc27208",
      "metadata": {
        "id": "5cc27208"
      },
      "outputs": [],
      "source": [
        "# Create sequences\n",
        "def create_sequences(data, seq_length):\n",
        "    sequences = []\n",
        "    labels = []\n",
        "    for i in range(len(data) - seq_length):\n",
        "        sequences.append(data[i:i+seq_length])\n",
        "        labels.append(data[i+seq_length, 3])  # The 'Close' price is at index 3\n",
        "    return np.array(sequences), np.array(labels)"
      ]
    },
    {
      "cell_type": "code",
      "execution_count": null,
      "id": "8e3d15d8",
      "metadata": {
        "id": "8e3d15d8"
      },
      "outputs": [],
      "source": [
        "seq_length = 60  # Use 60 days of data to predict the next day's price\n",
        "dow_sequences, dow_labels = create_sequences(dow_scaled, seq_length)\n",
        "# Determine the index to split the data for the test set (last 60 days)\n",
        "test_size = 60\n",
        "train_sequences = dow_sequences[:-test_size]\n",
        "test_sequences = dow_sequences[-test_size:]\n",
        "train_labels = dow_labels[:-test_size]\n",
        "test_labels = dow_labels[-test_size:]"
      ]
    },
    {
      "cell_type": "markdown",
      "id": "94d94592",
      "metadata": {
        "id": "94d94592"
      },
      "source": [
        "## LSTM (Single layer model)"
      ]
    },
    {
      "cell_type": "code",
      "execution_count": null,
      "id": "c6bb854e",
      "metadata": {
        "id": "c6bb854e"
      },
      "outputs": [],
      "source": [
        "# Build the LSTM model\n",
        "model = Sequential([\n",
        "    LSTM(50, return_sequences=False, input_shape=(seq_length, dow_data.shape[1])),\n",
        "    Dropout(0.2),\n",
        "    Dense(1)\n",
        "])\n",
        "\n",
        "model.compile(optimizer='adam', loss='mean_squared_error')"
      ]
    },
    {
      "cell_type": "code",
      "execution_count": null,
      "id": "2e64bca7",
      "metadata": {
        "id": "2e64bca7",
        "outputId": "e1fff65d-c122-4edc-b037-09adcf8d656f"
      },
      "outputs": [
        {
          "name": "stdout",
          "output_type": "stream",
          "text": [
            "Epoch 1/20\n",
            "86/86 [==============================] - 2s 29ms/step - loss: 6.9026e-04 - val_loss: 5.0966e-04\n",
            "Epoch 2/20\n",
            "86/86 [==============================] - 2s 28ms/step - loss: 6.7032e-04 - val_loss: 3.1292e-04\n",
            "Epoch 3/20\n",
            "86/86 [==============================] - 2s 28ms/step - loss: 6.8534e-04 - val_loss: 3.4910e-04\n",
            "Epoch 4/20\n",
            "86/86 [==============================] - 2s 28ms/step - loss: 6.1677e-04 - val_loss: 3.7122e-04\n",
            "Epoch 5/20\n",
            "86/86 [==============================] - 2s 28ms/step - loss: 5.4552e-04 - val_loss: 2.6630e-04\n",
            "Epoch 6/20\n",
            "86/86 [==============================] - 2s 28ms/step - loss: 5.6970e-04 - val_loss: 0.0014\n",
            "Epoch 7/20\n",
            "86/86 [==============================] - 2s 28ms/step - loss: 5.9937e-04 - val_loss: 9.5446e-04\n",
            "Epoch 8/20\n",
            "86/86 [==============================] - 2s 28ms/step - loss: 5.7038e-04 - val_loss: 4.2092e-04\n",
            "Epoch 9/20\n",
            "86/86 [==============================] - 2s 29ms/step - loss: 5.1485e-04 - val_loss: 2.6268e-04\n",
            "Epoch 10/20\n",
            "86/86 [==============================] - 2s 28ms/step - loss: 5.4187e-04 - val_loss: 7.7984e-04\n",
            "Epoch 11/20\n",
            "86/86 [==============================] - 2s 28ms/step - loss: 5.1594e-04 - val_loss: 3.7026e-04\n",
            "Epoch 12/20\n",
            "86/86 [==============================] - 2s 28ms/step - loss: 5.3340e-04 - val_loss: 2.6481e-04\n",
            "Epoch 13/20\n",
            "86/86 [==============================] - 2s 29ms/step - loss: 5.0742e-04 - val_loss: 6.4316e-04\n",
            "Epoch 14/20\n",
            "86/86 [==============================] - 2s 28ms/step - loss: 4.8663e-04 - val_loss: 2.6404e-04\n",
            "Epoch 15/20\n",
            "86/86 [==============================] - 2s 28ms/step - loss: 5.4131e-04 - val_loss: 2.3781e-04\n",
            "Epoch 16/20\n",
            "86/86 [==============================] - 2s 28ms/step - loss: 4.7633e-04 - val_loss: 6.6642e-04\n",
            "Epoch 17/20\n",
            "86/86 [==============================] - 2s 28ms/step - loss: 5.0774e-04 - val_loss: 2.9412e-04\n",
            "Epoch 18/20\n",
            "86/86 [==============================] - 2s 28ms/step - loss: 5.1166e-04 - val_loss: 5.3895e-04\n",
            "Epoch 19/20\n",
            "86/86 [==============================] - 2s 28ms/step - loss: 4.7829e-04 - val_loss: 2.3274e-04\n",
            "Epoch 20/20\n",
            "86/86 [==============================] - 2s 28ms/step - loss: 4.1962e-04 - val_loss: 2.4905e-04\n"
          ]
        }
      ],
      "source": [
        "# Train the model\n",
        "history = model.fit(train_sequences, train_labels, epochs=20, batch_size=32, validation_split=0.2)"
      ]
    },
    {
      "cell_type": "markdown",
      "id": "3add3f31",
      "metadata": {
        "id": "3add3f31"
      },
      "source": [
        "## Prediction"
      ]
    },
    {
      "cell_type": "code",
      "execution_count": null,
      "id": "71306224",
      "metadata": {
        "id": "71306224",
        "outputId": "db4539f1-e10f-4a84-e690-f662a670dae2"
      },
      "outputs": [
        {
          "name": "stdout",
          "output_type": "stream",
          "text": [
            "2/2 [==============================] - 1s 0s/step\n",
            "Root Mean Squared Error: 0.013510355197263884\n"
          ]
        },
        {
          "data": {
            "image/png": "[encoded data removed]",
            "text/plain": [
              "<Figure size 1400x500 with 1 Axes>"
            ]
          },
          "metadata": {},
          "output_type": "display_data"
        }
      ],
      "source": [
        "# Predict on the test data\n",
        "predictions = model.predict(test_sequences)\n",
        "\n",
        "\n",
        "# Calculate RMSE\n",
        "rmse = np.sqrt(mean_squared_error(test_labels, predictions))\n",
        "print(f'Root Mean Squared Error: {rmse}')\n",
        "\n",
        "\n",
        "# Inverse transform the predictions and test labels\n",
        "predictions = scaler.inverse_transform(np.concatenate((np.zeros((predictions.shape[0], dow_data.shape[1]-1)), predictions), axis=1))[:, -1]\n",
        "test_labels = scaler.inverse_transform(np.concatenate((np.zeros((test_labels.shape[0], dow_data.shape[1]-1)), test_labels.reshape(-1, 1)), axis=1))[:, -1]\n",
        "\n",
        "# Plot the results\n",
        "plt.figure(figsize=(14, 5))\n",
        "plt.plot(dow_data.index[-len(test_labels):], test_labels, color='blue', label='Actual Dow Jones Price')\n",
        "plt.plot(dow_data.index[-len(test_labels):], predictions, color='red', label='Predicted Dow Jones Price')\n",
        "plt.title('Dow Jones Price Prediction')\n",
        "plt.xlabel('Date')\n",
        "plt.ylabel('Price')\n",
        "plt.legend()\n",
        "plt.show()\n"
      ]
    }
  ],
  "metadata": {
    "kernelspec": {
      "display_name": "Python 3 (ipykernel)",
      "language": "python",
      "name": "python3"
    },
    "language_info": {
      "codemirror_mode": {
        "name": "ipython",
        "version": 3
      },
      "file_extension": ".py",
      "mimetype": "text/x-python",
      "name": "python",
      "nbconvert_exporter": "python",
      "pygments_lexer": "ipython3",
      "version": "3.9.13"
    },
    "colab": {
      "provenance": [],
      "include_colab_link": true
    }
  },
  "nbformat": 4,
  "nbformat_minor": 5
}