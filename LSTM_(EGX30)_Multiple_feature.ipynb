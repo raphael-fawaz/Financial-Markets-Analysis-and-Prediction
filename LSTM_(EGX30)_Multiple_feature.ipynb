{
  "cells": [
    {
      "cell_type": "markdown",
      "metadata": {
        "id": "view-in-github",
        "colab_type": "text"
      },
      "source": [
        "<a href=\"https://colab.research.google.com/github/raphael-fawaz/Financial-Markets-Analysis-and-Prediction/blob/Bi-LSTM-(Dow-Jones-%26-Nasdaq)---Close-Price/LSTM_(EGX30)_Multiple_feature.ipynb\" target=\"_parent\"><img src=\"https://colab.research.google.com/assets/colab-badge.svg\" alt=\"Open In Colab\"/></a>"
      ]
    },
    {
      "cell_type": "markdown",
      "id": "71fc254e",
      "metadata": {
        "id": "71fc254e"
      },
      "source": [
        "# LSTM (EGX30) - Multiple feature"
      ]
    },
    {
      "cell_type": "code",
      "execution_count": null,
      "id": "24b55593",
      "metadata": {
        "id": "24b55593"
      },
      "outputs": [],
      "source": [
        "import pandas as pd\n",
        "import numpy as np\n",
        "import io\n",
        "\n",
        "import matplotlib.pyplot as plt\n",
        "import seaborn as sns\n",
        "import mplfinance as mpf\n",
        "sns.set_style('whitegrid')\n",
        "plt.style.use(\"fivethirtyeight\")\n",
        "%matplotlib inline\n",
        "from sklearn.preprocessing import MinMaxScaler\n",
        "from sklearn.metrics import mean_squared_error\n",
        "from tensorflow.keras.models import Sequential\n",
        "from tensorflow.keras.layers import LSTM, Dense, Dropout\n",
        "from pandas.plotting import lag_plot"
      ]
    },
    {
      "cell_type": "code",
      "execution_count": null,
      "id": "164e8361",
      "metadata": {
        "id": "164e8361"
      },
      "outputs": [],
      "source": [
        "EGX30 = pd.read_csv('EGX 30 Data June.csv',parse_dates=['Date'])"
      ]
    },
    {
      "cell_type": "code",
      "execution_count": null,
      "id": "aa8b4089",
      "metadata": {
        "id": "aa8b4089",
        "outputId": "3e5cbd61-fc3c-4e27-9f0c-9bbe024a2604"
      },
      "outputs": [
        {
          "data": {
            "text/html": [
              "<div>\n",
              "<style scoped>\n",
              "    .dataframe tbody tr th:only-of-type {\n",
              "        vertical-align: middle;\n",
              "    }\n",
              "\n",
              "    .dataframe tbody tr th {\n",
              "        vertical-align: top;\n",
              "    }\n",
              "\n",
              "    .dataframe thead th {\n",
              "        text-align: right;\n",
              "    }\n",
              "</style>\n",
              "<table border=\"1\" class=\"dataframe\">\n",
              "  <thead>\n",
              "    <tr style=\"text-align: right;\">\n",
              "      <th></th>\n",
              "      <th>Date</th>\n",
              "      <th>Price</th>\n",
              "      <th>Open</th>\n",
              "      <th>High</th>\n",
              "      <th>Low</th>\n",
              "      <th>Vol.</th>\n",
              "      <th>Change %</th>\n",
              "    </tr>\n",
              "  </thead>\n",
              "  <tbody>\n",
              "    <tr>\n",
              "      <th>0</th>\n",
              "      <td>2024-06-05</td>\n",
              "      <td>26,634.30</td>\n",
              "      <td>26,915.46</td>\n",
              "      <td>26,915.46</td>\n",
              "      <td>26,245.33</td>\n",
              "      <td>240.86M</td>\n",
              "      <td>-1.26%</td>\n",
              "    </tr>\n",
              "    <tr>\n",
              "      <th>1</th>\n",
              "      <td>2024-06-04</td>\n",
              "      <td>26,973.00</td>\n",
              "      <td>26,852.33</td>\n",
              "      <td>27,158.65</td>\n",
              "      <td>26,852.33</td>\n",
              "      <td>352.59M</td>\n",
              "      <td>0.52%</td>\n",
              "    </tr>\n",
              "    <tr>\n",
              "      <th>2</th>\n",
              "      <td>2024-06-03</td>\n",
              "      <td>26,834.47</td>\n",
              "      <td>26,869.85</td>\n",
              "      <td>27,003.04</td>\n",
              "      <td>26,760.84</td>\n",
              "      <td>267.86M</td>\n",
              "      <td>-0.13%</td>\n",
              "    </tr>\n",
              "    <tr>\n",
              "      <th>3</th>\n",
              "      <td>2024-06-02</td>\n",
              "      <td>26,869.85</td>\n",
              "      <td>26,922.76</td>\n",
              "      <td>27,140.20</td>\n",
              "      <td>26,753.70</td>\n",
              "      <td>225.28M</td>\n",
              "      <td>-0.20%</td>\n",
              "    </tr>\n",
              "    <tr>\n",
              "      <th>4</th>\n",
              "      <td>2024-05-30</td>\n",
              "      <td>26,922.76</td>\n",
              "      <td>27,089.68</td>\n",
              "      <td>27,116.25</td>\n",
              "      <td>26,683.97</td>\n",
              "      <td>352.59M</td>\n",
              "      <td>-0.62%</td>\n",
              "    </tr>\n",
              "  </tbody>\n",
              "</table>\n",
              "</div>"
            ],
            "text/plain": [
              "        Date      Price       Open       High        Low     Vol. Change %\n",
              "0 2024-06-05  26,634.30  26,915.46  26,915.46  26,245.33  240.86M   -1.26%\n",
              "1 2024-06-04  26,973.00  26,852.33  27,158.65  26,852.33  352.59M    0.52%\n",
              "2 2024-06-03  26,834.47  26,869.85  27,003.04  26,760.84  267.86M   -0.13%\n",
              "3 2024-06-02  26,869.85  26,922.76  27,140.20  26,753.70  225.28M   -0.20%\n",
              "4 2024-05-30  26,922.76  27,089.68  27,116.25  26,683.97  352.59M   -0.62%"
            ]
          },
          "execution_count": 3,
          "metadata": {},
          "output_type": "execute_result"
        }
      ],
      "source": [
        "EGX30.head()"
      ]
    },
    {
      "cell_type": "markdown",
      "id": "fa5049f2",
      "metadata": {
        "id": "fa5049f2"
      },
      "source": [
        "### Data engineering"
      ]
    },
    {
      "cell_type": "code",
      "execution_count": null,
      "id": "8cbb3a2b",
      "metadata": {
        "id": "8cbb3a2b"
      },
      "outputs": [],
      "source": [
        "def convert_volume_to_float(volume_str):\n",
        "    if pd.isna(volume_str):\n",
        "        return np.nan\n",
        "    else:\n",
        "        return float(volume_str[:-1]) * 1e6\n",
        "\n",
        "def convert_change_to_float(change_str):\n",
        "    if pd.isna(change_str):\n",
        "        return np.nan\n",
        "    else:\n",
        "        return float(change_str[:-1]) /100"
      ]
    },
    {
      "cell_type": "code",
      "execution_count": null,
      "id": "6ed7a74f",
      "metadata": {
        "id": "6ed7a74f",
        "outputId": "203b3aa8-c2ce-4c7d-97c6-ff4df4f63413"
      },
      "outputs": [
        {
          "data": {
            "text/html": [
              "<div>\n",
              "<style scoped>\n",
              "    .dataframe tbody tr th:only-of-type {\n",
              "        vertical-align: middle;\n",
              "    }\n",
              "\n",
              "    .dataframe tbody tr th {\n",
              "        vertical-align: top;\n",
              "    }\n",
              "\n",
              "    .dataframe thead th {\n",
              "        text-align: right;\n",
              "    }\n",
              "</style>\n",
              "<table border=\"1\" class=\"dataframe\">\n",
              "  <thead>\n",
              "    <tr style=\"text-align: right;\">\n",
              "      <th></th>\n",
              "      <th>Close</th>\n",
              "      <th>Open</th>\n",
              "      <th>High</th>\n",
              "      <th>Low</th>\n",
              "      <th>Vol.</th>\n",
              "      <th>Change %</th>\n",
              "    </tr>\n",
              "    <tr>\n",
              "      <th>Date</th>\n",
              "      <th></th>\n",
              "      <th></th>\n",
              "      <th></th>\n",
              "      <th></th>\n",
              "      <th></th>\n",
              "      <th></th>\n",
              "    </tr>\n",
              "  </thead>\n",
              "  <tbody>\n",
              "    <tr>\n",
              "      <th>2024-06-05</th>\n",
              "      <td>26634.30</td>\n",
              "      <td>26915.46</td>\n",
              "      <td>26915.46</td>\n",
              "      <td>26245.33</td>\n",
              "      <td>240860000.0</td>\n",
              "      <td>-0.0126</td>\n",
              "    </tr>\n",
              "    <tr>\n",
              "      <th>2024-06-04</th>\n",
              "      <td>26973.00</td>\n",
              "      <td>26852.33</td>\n",
              "      <td>27158.65</td>\n",
              "      <td>26852.33</td>\n",
              "      <td>352590000.0</td>\n",
              "      <td>0.0052</td>\n",
              "    </tr>\n",
              "    <tr>\n",
              "      <th>2024-06-03</th>\n",
              "      <td>26834.47</td>\n",
              "      <td>26869.85</td>\n",
              "      <td>27003.04</td>\n",
              "      <td>26760.84</td>\n",
              "      <td>267860000.0</td>\n",
              "      <td>-0.0013</td>\n",
              "    </tr>\n",
              "    <tr>\n",
              "      <th>2024-06-02</th>\n",
              "      <td>26869.85</td>\n",
              "      <td>26922.76</td>\n",
              "      <td>27140.20</td>\n",
              "      <td>26753.70</td>\n",
              "      <td>225280000.0</td>\n",
              "      <td>-0.0020</td>\n",
              "    </tr>\n",
              "    <tr>\n",
              "      <th>2024-05-30</th>\n",
              "      <td>26922.76</td>\n",
              "      <td>27089.68</td>\n",
              "      <td>27116.25</td>\n",
              "      <td>26683.97</td>\n",
              "      <td>352590000.0</td>\n",
              "      <td>-0.0062</td>\n",
              "    </tr>\n",
              "  </tbody>\n",
              "</table>\n",
              "</div>"
            ],
            "text/plain": [
              "               Close      Open      High       Low         Vol.  Change %\n",
              "Date                                                                     \n",
              "2024-06-05  26634.30  26915.46  26915.46  26245.33  240860000.0   -0.0126\n",
              "2024-06-04  26973.00  26852.33  27158.65  26852.33  352590000.0    0.0052\n",
              "2024-06-03  26834.47  26869.85  27003.04  26760.84  267860000.0   -0.0013\n",
              "2024-06-02  26869.85  26922.76  27140.20  26753.70  225280000.0   -0.0020\n",
              "2024-05-30  26922.76  27089.68  27116.25  26683.97  352590000.0   -0.0062"
            ]
          },
          "execution_count": 6,
          "metadata": {},
          "output_type": "execute_result"
        }
      ],
      "source": [
        "EGX30['Date'] = pd.to_datetime(EGX30['Date'])\n",
        "\n",
        "EGX30 = EGX30.dropna()\n",
        "\n",
        "num_cols = ['Price', 'Open', 'High', 'Low']\n",
        "for col in num_cols:\n",
        "    EGX30[col] = EGX30[col].str.replace(',', '').astype(float)\n",
        "\n",
        "EGX30['Vol.'] = EGX30['Vol.'].apply(convert_volume_to_float)\n",
        "EGX30['Change %']= EGX30['Change %'].apply(convert_change_to_float)\n",
        "\n",
        "# Set the 'Date' column as the index\n",
        "EGX30.set_index('Date', inplace=True)\n",
        "\n",
        "#Change the name of the price column to close.\n",
        "EGX30.rename(columns={'Price': 'Close'}, inplace=True)\n",
        "\n",
        "EGX30.head()"
      ]
    },
    {
      "cell_type": "code",
      "execution_count": null,
      "id": "6ad358b9",
      "metadata": {
        "id": "6ad358b9"
      },
      "outputs": [],
      "source": [
        "EGX30 = EGX30[::-1]"
      ]
    },
    {
      "cell_type": "code",
      "execution_count": null,
      "id": "51645992",
      "metadata": {
        "id": "51645992",
        "outputId": "2ad8afb6-f20a-4d6e-d8c1-b732df9015ca"
      },
      "outputs": [
        {
          "data": {
            "text/html": [
              "<div>\n",
              "<style scoped>\n",
              "    .dataframe tbody tr th:only-of-type {\n",
              "        vertical-align: middle;\n",
              "    }\n",
              "\n",
              "    .dataframe tbody tr th {\n",
              "        vertical-align: top;\n",
              "    }\n",
              "\n",
              "    .dataframe thead th {\n",
              "        text-align: right;\n",
              "    }\n",
              "</style>\n",
              "<table border=\"1\" class=\"dataframe\">\n",
              "  <thead>\n",
              "    <tr style=\"text-align: right;\">\n",
              "      <th></th>\n",
              "      <th>Close</th>\n",
              "      <th>Open</th>\n",
              "      <th>High</th>\n",
              "      <th>Low</th>\n",
              "      <th>Vol.</th>\n",
              "      <th>Change %</th>\n",
              "    </tr>\n",
              "    <tr>\n",
              "      <th>Date</th>\n",
              "      <th></th>\n",
              "      <th></th>\n",
              "      <th></th>\n",
              "      <th></th>\n",
              "      <th></th>\n",
              "      <th></th>\n",
              "    </tr>\n",
              "  </thead>\n",
              "  <tbody>\n",
              "    <tr>\n",
              "      <th>2009-03-01</th>\n",
              "      <td>3647.02</td>\n",
              "      <td>3597.56</td>\n",
              "      <td>3648.15</td>\n",
              "      <td>3588.01</td>\n",
              "      <td>43850000.0</td>\n",
              "      <td>0.0137</td>\n",
              "    </tr>\n",
              "    <tr>\n",
              "      <th>2009-03-02</th>\n",
              "      <td>3584.86</td>\n",
              "      <td>3640.55</td>\n",
              "      <td>3641.19</td>\n",
              "      <td>3584.86</td>\n",
              "      <td>46910000.0</td>\n",
              "      <td>-0.0170</td>\n",
              "    </tr>\n",
              "    <tr>\n",
              "      <th>2009-03-03</th>\n",
              "      <td>3517.33</td>\n",
              "      <td>3524.81</td>\n",
              "      <td>3533.41</td>\n",
              "      <td>3494.95</td>\n",
              "      <td>57010000.0</td>\n",
              "      <td>-0.0188</td>\n",
              "    </tr>\n",
              "    <tr>\n",
              "      <th>2009-03-04</th>\n",
              "      <td>3559.09</td>\n",
              "      <td>3524.63</td>\n",
              "      <td>3562.48</td>\n",
              "      <td>3524.63</td>\n",
              "      <td>68900000.0</td>\n",
              "      <td>0.0119</td>\n",
              "    </tr>\n",
              "    <tr>\n",
              "      <th>2009-03-05</th>\n",
              "      <td>3575.93</td>\n",
              "      <td>3566.55</td>\n",
              "      <td>3605.23</td>\n",
              "      <td>3565.60</td>\n",
              "      <td>54810000.0</td>\n",
              "      <td>0.0047</td>\n",
              "    </tr>\n",
              "  </tbody>\n",
              "</table>\n",
              "</div>"
            ],
            "text/plain": [
              "              Close     Open     High      Low        Vol.  Change %\n",
              "Date                                                                \n",
              "2009-03-01  3647.02  3597.56  3648.15  3588.01  43850000.0    0.0137\n",
              "2009-03-02  3584.86  3640.55  3641.19  3584.86  46910000.0   -0.0170\n",
              "2009-03-03  3517.33  3524.81  3533.41  3494.95  57010000.0   -0.0188\n",
              "2009-03-04  3559.09  3524.63  3562.48  3524.63  68900000.0    0.0119\n",
              "2009-03-05  3575.93  3566.55  3605.23  3565.60  54810000.0    0.0047"
            ]
          },
          "execution_count": 8,
          "metadata": {},
          "output_type": "execute_result"
        }
      ],
      "source": [
        "EGX30.head()"
      ]
    },
    {
      "cell_type": "markdown",
      "id": "37367074",
      "metadata": {
        "id": "37367074"
      },
      "source": [
        "## Normalizing"
      ]
    },
    {
      "cell_type": "code",
      "execution_count": null,
      "id": "4e552e50",
      "metadata": {
        "id": "4e552e50"
      },
      "outputs": [],
      "source": [
        "# Normalize the data\n",
        "scaler = MinMaxScaler(feature_range=(0, 1))\n",
        "egx30_scaled = scaler.fit_transform(EGX30)"
      ]
    },
    {
      "cell_type": "markdown",
      "id": "fefa088c",
      "metadata": {
        "id": "fefa088c"
      },
      "source": [
        "## Creating Sequences"
      ]
    },
    {
      "cell_type": "code",
      "execution_count": null,
      "id": "ba21e6e3",
      "metadata": {
        "id": "ba21e6e3",
        "outputId": "117757a5-1ebd-4784-ac43-92f478bb4819"
      },
      "outputs": [
        {
          "data": {
            "text/plain": [
              "Date\n",
              "2009-03-01     3647.02\n",
              "2009-03-02     3584.86\n",
              "2009-03-03     3517.33\n",
              "2009-03-04     3559.09\n",
              "2009-03-05     3575.93\n",
              "                ...   \n",
              "2024-05-30    26922.76\n",
              "2024-06-02    26869.85\n",
              "2024-06-03    26834.47\n",
              "2024-06-04    26973.00\n",
              "2024-06-05    26634.30\n",
              "Name: Close, Length: 3682, dtype: float64"
            ]
          },
          "execution_count": 12,
          "metadata": {},
          "output_type": "execute_result"
        }
      ],
      "source": [
        "EGX30['Close']"
      ]
    },
    {
      "cell_type": "code",
      "execution_count": null,
      "id": "3a1f9802",
      "metadata": {
        "id": "3a1f9802"
      },
      "outputs": [],
      "source": [
        "# Create sequences\n",
        "def create_sequences(data, seq_length):\n",
        "    sequences = []\n",
        "    labels = []\n",
        "    for i in range(len(data) - seq_length):\n",
        "        sequences.append(data[i:i+seq_length])\n",
        "        labels.append(data[i+seq_length, 0])  # The 'Close' price is at first column\n",
        "    return np.array(sequences), np.array(labels)"
      ]
    },
    {
      "cell_type": "code",
      "execution_count": null,
      "id": "411217ef",
      "metadata": {
        "id": "411217ef",
        "outputId": "9fc17ea6-e5d2-4bde-95ce-f67649b059f4"
      },
      "outputs": [
        {
          "name": "stdout",
          "output_type": "stream",
          "text": [
            "Training sequences shape: (3562, 60, 6)\n",
            "Test sequences shape: (60, 60, 6)\n",
            "Training labels shape: (3562,)\n",
            "Test labels shape: (60,)\n"
          ]
        }
      ],
      "source": [
        "seq_length = 60  # Use 60 days of data to predict the next day's price\n",
        "egx30_sequences, egx30_labels = create_sequences(egx30_scaled, seq_length)\n",
        "\n",
        "# Determine the index to split the data for the test set (last 60 days)\n",
        "test_size = 60\n",
        "train_sequences = egx30_sequences[:-test_size]\n",
        "test_sequences = egx30_sequences[-test_size:]\n",
        "train_labels = egx30_labels[:-test_size]\n",
        "test_labels = egx30_labels[-test_size:]\n",
        "\n",
        "print(f\"Training sequences shape: {train_sequences.shape}\")\n",
        "print(f\"Test sequences shape: {test_sequences.shape}\")\n",
        "print(f\"Training labels shape: {train_labels.shape}\")\n",
        "print(f\"Test labels shape: {test_labels.shape}\")"
      ]
    },
    {
      "cell_type": "markdown",
      "id": "1b1d3bb4",
      "metadata": {
        "id": "1b1d3bb4"
      },
      "source": [
        "## Single LSTM Layer with multiple features"
      ]
    },
    {
      "cell_type": "code",
      "execution_count": null,
      "id": "130c3476",
      "metadata": {
        "id": "130c3476"
      },
      "outputs": [],
      "source": [
        "# Build the LSTM model\n",
        "model = Sequential([\n",
        "    LSTM(50, return_sequences=False, input_shape=(seq_length, EGX30.shape[1])),\n",
        "    Dropout(0.2),\n",
        "    Dense(1)\n",
        "])\n",
        "\n",
        "model.compile(optimizer='adam', loss='mean_squared_error')"
      ]
    },
    {
      "cell_type": "code",
      "execution_count": null,
      "id": "4dd8eb71",
      "metadata": {
        "id": "4dd8eb71",
        "outputId": "92195064-424e-4978-f7df-b747ff218983"
      },
      "outputs": [
        {
          "name": "stdout",
          "output_type": "stream",
          "text": [
            "Epoch 1/20\n",
            "90/90 [==============================] - 4s 26ms/step - loss: 0.0025 - val_loss: 7.1854e-04\n",
            "Epoch 2/20\n",
            "90/90 [==============================] - 2s 19ms/step - loss: 6.4588e-04 - val_loss: 0.0018\n",
            "Epoch 3/20\n",
            "90/90 [==============================] - 2s 19ms/step - loss: 6.0580e-04 - val_loss: 0.0013\n",
            "Epoch 4/20\n",
            "90/90 [==============================] - 2s 20ms/step - loss: 4.5431e-04 - val_loss: 2.4995e-04\n",
            "Epoch 5/20\n",
            "90/90 [==============================] - 2s 19ms/step - loss: 4.0031e-04 - val_loss: 2.6348e-04\n",
            "Epoch 6/20\n",
            "90/90 [==============================] - 2s 20ms/step - loss: 3.7760e-04 - val_loss: 1.7402e-04\n",
            "Epoch 7/20\n",
            "90/90 [==============================] - 2s 19ms/step - loss: 3.3026e-04 - val_loss: 2.7632e-04\n",
            "Epoch 8/20\n",
            "90/90 [==============================] - 2s 19ms/step - loss: 3.3171e-04 - val_loss: 2.5703e-04\n",
            "Epoch 9/20\n",
            "90/90 [==============================] - 2s 19ms/step - loss: 2.7456e-04 - val_loss: 2.7279e-04\n",
            "Epoch 10/20\n",
            "90/90 [==============================] - 2s 19ms/step - loss: 2.4595e-04 - val_loss: 2.9277e-04\n",
            "Epoch 11/20\n",
            "90/90 [==============================] - 2s 19ms/step - loss: 2.4516e-04 - val_loss: 9.5879e-04\n",
            "Epoch 12/20\n",
            "90/90 [==============================] - 2s 20ms/step - loss: 2.5705e-04 - val_loss: 1.8667e-04\n",
            "Epoch 13/20\n",
            "90/90 [==============================] - 2s 21ms/step - loss: 2.0976e-04 - val_loss: 2.3976e-04\n",
            "Epoch 14/20\n",
            "90/90 [==============================] - 2s 22ms/step - loss: 2.0377e-04 - val_loss: 5.4358e-04\n",
            "Epoch 15/20\n",
            "90/90 [==============================] - 2s 21ms/step - loss: 1.8849e-04 - val_loss: 3.8100e-04\n",
            "Epoch 16/20\n",
            "90/90 [==============================] - 2s 22ms/step - loss: 1.8392e-04 - val_loss: 6.3324e-04\n",
            "Epoch 17/20\n",
            "90/90 [==============================] - 2s 22ms/step - loss: 1.9006e-04 - val_loss: 1.4443e-04\n",
            "Epoch 18/20\n",
            "90/90 [==============================] - 2s 21ms/step - loss: 1.9869e-04 - val_loss: 1.7256e-04\n",
            "Epoch 19/20\n",
            "90/90 [==============================] - 2s 21ms/step - loss: 1.7010e-04 - val_loss: 1.2462e-04\n",
            "Epoch 20/20\n",
            "90/90 [==============================] - 2s 22ms/step - loss: 1.6593e-04 - val_loss: 6.4716e-04\n"
          ]
        }
      ],
      "source": [
        "# Train the model\n",
        "history = model.fit(train_sequences, train_labels, epochs=20, batch_size=32, validation_split=0.2)"
      ]
    },
    {
      "cell_type": "code",
      "execution_count": null,
      "id": "f6d11b5f",
      "metadata": {
        "id": "f6d11b5f",
        "outputId": "2dd0e626-3a68-4794-c891-3fd1f91cc98d"
      },
      "outputs": [
        {
          "name": "stdout",
          "output_type": "stream",
          "text": [
            "2/2 [==============================] - 0s 9ms/step\n",
            "Root Mean Squared Error: 0.05676433765430233\n"
          ]
        },
        {
          "data": {
            "image/png": "[encoded data removed]",
            "text/plain": [
              "<Figure size 1400x500 with 1 Axes>"
            ]
          },
          "metadata": {},
          "output_type": "display_data"
        }
      ],
      "source": [
        "# Predict on the test data\n",
        "predictions = model.predict(test_sequences)\n",
        "\n",
        "\n",
        "# Calculate RMSE\n",
        "rmse = np.sqrt(mean_squared_error(test_labels, predictions))\n",
        "print(f'Root Mean Squared Error: {rmse}')\n",
        "\n",
        "\n",
        "# Inverse transform the predictions and test labels\n",
        "predictions = scaler.inverse_transform(np.concatenate((np.zeros((predictions.shape[0], EGX30.shape[1]-1)), predictions), axis=1))[:, -1]\n",
        "test_labels = scaler.inverse_transform(np.concatenate((np.zeros((test_labels.shape[0], EGX30.shape[1]-1)), test_labels.reshape(-1, 1)), axis=1))[:, -1]\n",
        "\n",
        "# Plot the results\n",
        "plt.figure(figsize=(14, 5))\n",
        "plt.plot(EGX30.index[-len(test_labels):], test_labels, color='blue', label='Actual Dow Jones Price')\n",
        "plt.plot(EGX30.index[-len(test_labels):], predictions, color='red', label='Predicted Dow Jones Price')\n",
        "plt.title('Dow Jones Price Prediction')\n",
        "plt.xlabel('Date')\n",
        "plt.ylabel('Price')\n",
        "plt.legend()\n",
        "plt.show()"
      ]
    }
  ],
  "metadata": {
    "kernelspec": {
      "display_name": "Python 3 (ipykernel)",
      "language": "python",
      "name": "python3"
    },
    "language_info": {
      "codemirror_mode": {
        "name": "ipython",
        "version": 3
      },
      "file_extension": ".py",
      "mimetype": "text/x-python",
      "name": "python",
      "nbconvert_exporter": "python",
      "pygments_lexer": "ipython3",
      "version": "3.9.13"
    },
    "colab": {
      "provenance": [],
      "include_colab_link": true
    }
  },
  "nbformat": 4,
  "nbformat_minor": 5
}